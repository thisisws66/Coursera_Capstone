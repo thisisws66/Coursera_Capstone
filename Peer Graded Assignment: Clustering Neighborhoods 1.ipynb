{
    "cells": [
        {
            "metadata": {
                "collapsed": true
            },
            "cell_type": "markdown",
            "source": "# Peer Graded Asignment: Clustering and Segmenting Neighbourhoods in Toronto\n\nIn this assignment we were asked to explore, segment, and cluster neighborhoods in Toronto based on postal code and borough information. This first task was use a method to extract the postal code and burough information from the wikipedia site 'List of Postal Codes of Canada:_M'. I chose to use pandas to wrangle data from the table into a data frame, looping through each row to append the data frame. I then cleaned the data to remove any non assigned postal codes and reset the index for the data frame."
        },
        {
            "metadata": {},
            "cell_type": "code",
            "source": "import pandas as pd",
            "execution_count": 1,
            "outputs": []
        },
        {
            "metadata": {},
            "cell_type": "markdown",
            "source": "### Reading HTML data from Wikipedia using into a pandas data frame"
        },
        {
            "metadata": {},
            "cell_type": "code",
            "source": "url = \"https://en.wikipedia.org/wiki/List_of_postal_codes_of_Canada:_M\"\ndf = pd.read_html(url)[0]",
            "execution_count": 2,
            "outputs": []
        },
        {
            "metadata": {},
            "cell_type": "markdown",
            "source": "### Exracting data into data frame and cleaning table"
        },
        {
            "metadata": {},
            "cell_type": "code",
            "source": "toronto_data = df.iloc[0].str.extractall(r'(M\\d\\w)([^\\(\\(]*)(?:\\((.*)\\))?')\nfor i in range(1,20):\n    toronto_data=toronto_data.append(df.iloc[i].str.extractall(r'(M\\d\\w)([^\\(\\(]*)(?:\\((.*)\\))?'))\n    \ntoronto_data = toronto_data.rename(columns = {0: 'Postal Code',1: 'Burough',2:'Neighborhood'}, inplace = False)\ntoronto_data = toronto_data[~toronto_data['Burough'].isin(['Not assigned'])]\ntoronto_data.reset_index(drop=True, inplace=True)\ntoronto_data.head()",
            "execution_count": 3,
            "outputs": [
                {
                    "output_type": "execute_result",
                    "execution_count": 3,
                    "data": {
                        "text/plain": "  Postal Code           Burough                       Neighborhood\n0         M3A        North York                          Parkwoods\n1         M4A        North York                   Victoria Village\n2         M5A  Downtown Toronto         Regent Park / Harbourfront\n3         M6A        North York  Lawrence Manor / Lawrence Heights\n4         M7A      Queen's Park      Ontario Provincial Government",
                        "text/html": "<div>\n<style scoped>\n    .dataframe tbody tr th:only-of-type {\n        vertical-align: middle;\n    }\n\n    .dataframe tbody tr th {\n        vertical-align: top;\n    }\n\n    .dataframe thead th {\n        text-align: right;\n    }\n</style>\n<table border=\"1\" class=\"dataframe\">\n  <thead>\n    <tr style=\"text-align: right;\">\n      <th></th>\n      <th>Postal Code</th>\n      <th>Burough</th>\n      <th>Neighborhood</th>\n    </tr>\n  </thead>\n  <tbody>\n    <tr>\n      <th>0</th>\n      <td>M3A</td>\n      <td>North York</td>\n      <td>Parkwoods</td>\n    </tr>\n    <tr>\n      <th>1</th>\n      <td>M4A</td>\n      <td>North York</td>\n      <td>Victoria Village</td>\n    </tr>\n    <tr>\n      <th>2</th>\n      <td>M5A</td>\n      <td>Downtown Toronto</td>\n      <td>Regent Park / Harbourfront</td>\n    </tr>\n    <tr>\n      <th>3</th>\n      <td>M6A</td>\n      <td>North York</td>\n      <td>Lawrence Manor / Lawrence Heights</td>\n    </tr>\n    <tr>\n      <th>4</th>\n      <td>M7A</td>\n      <td>Queen's Park</td>\n      <td>Ontario Provincial Government</td>\n    </tr>\n  </tbody>\n</table>\n</div>"
                    },
                    "metadata": {}
                }
            ]
        },
        {
            "metadata": {},
            "cell_type": "code",
            "source": "toronto_data.shape",
            "execution_count": 4,
            "outputs": [
                {
                    "output_type": "execute_result",
                    "execution_count": 4,
                    "data": {
                        "text/plain": "(103, 3)"
                    },
                    "metadata": {}
                }
            ]
        }
    ],
    "metadata": {
        "kernelspec": {
            "name": "python3",
            "display_name": "Python 3.7",
            "language": "python"
        },
        "language_info": {
            "name": "python",
            "version": "3.7.10",
            "mimetype": "text/x-python",
            "codemirror_mode": {
                "name": "ipython",
                "version": 3
            },
            "pygments_lexer": "ipython3",
            "nbconvert_exporter": "python",
            "file_extension": ".py"
        }
    },
    "nbformat": 4,
    "nbformat_minor": 1
}